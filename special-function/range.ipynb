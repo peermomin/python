{
 "cells": [
  {
   "cell_type": "markdown",
   "id": "40d64736",
   "metadata": {},
   "source": [
    "#### range() In python\n",
    "<li> The range() function in Python is used to generate a sequence of numbers.\n",
    "<li> range(start, stop, step) \n",
    "    <li> start → optional, default is 0\n",
    "    <li> stop → required, the sequence ends before this number\n",
    "    <li> step → optional, default is 1\n"
   ]
  },
  {
   "cell_type": "code",
   "execution_count": null,
   "id": "88c66b02",
   "metadata": {},
   "outputs": [
    {
     "name": "stdout",
     "output_type": "stream",
     "text": [
      "5 10 15 20\n"
     ]
    }
   ],
   "source": [
    "print(*range(5,25,5))"
   ]
  },
  {
   "cell_type": "code",
   "execution_count": 16,
   "id": "2361f63b",
   "metadata": {},
   "outputs": [
    {
     "name": "stdout",
     "output_type": "stream",
     "text": [
      "0 1 2 3 4 5 6 7 8 9 10\n"
     ]
    }
   ],
   "source": [
    "my_list = []\n",
    "for i in range(11):\n",
    "    my_list.append(i)\n",
    "\n",
    "print(*my_list)"
   ]
  },
  {
   "cell_type": "code",
   "execution_count": 1,
   "id": "71411787",
   "metadata": {},
   "outputs": [
    {
     "name": "stdout",
     "output_type": "stream",
     "text": [
      "[0, 1, 2, 3, 4]\n"
     ]
    }
   ],
   "source": [
    "print(list(range(5)))"
   ]
  }
 ],
 "metadata": {
  "kernelspec": {
   "display_name": "Python 3",
   "language": "python",
   "name": "python3"
  },
  "language_info": {
   "codemirror_mode": {
    "name": "ipython",
    "version": 3
   },
   "file_extension": ".py",
   "mimetype": "text/x-python",
   "name": "python",
   "nbconvert_exporter": "python",
   "pygments_lexer": "ipython3",
   "version": "3.13.2"
  }
 },
 "nbformat": 4,
 "nbformat_minor": 5
}
