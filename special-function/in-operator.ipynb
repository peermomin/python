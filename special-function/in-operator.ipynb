{
 "cells": [
  {
   "cell_type": "markdown",
   "id": "b699c4fb",
   "metadata": {},
   "source": [
    "#### in Operator in Python\n",
    "<li> The in operator is used to check if a value exists inside a sequence (like a list, tuple, string, set, or dictionary)."
   ]
  },
  {
   "cell_type": "code",
   "execution_count": 1,
   "id": "46707a7e",
   "metadata": {},
   "outputs": [
    {
     "name": "stdout",
     "output_type": "stream",
     "text": [
      "True\n",
      "False\n"
     ]
    }
   ],
   "source": [
    "fruits = ['apple', 'banana', 'cherry']\n",
    "\n",
    "print('banana' in fruits)   # True\n",
    "print('mango' in fruits)    # False\n"
   ]
  },
  {
   "cell_type": "code",
   "execution_count": 6,
   "id": "bed56afe",
   "metadata": {},
   "outputs": [
    {
     "name": "stdout",
     "output_type": "stream",
     "text": [
      "True\n",
      "True\n",
      "True\n",
      "False\n"
     ]
    }
   ],
   "source": [
    "name = \"peer momin\"\n",
    "print(\"momin\" in name) #true\n",
    "print(\"mom\" in name) #true\n",
    "print(\"r m\" in name) #true\n",
    "print(\"mm\" in name) #true"
   ]
  },
  {
   "cell_type": "code",
   "execution_count": 10,
   "id": "41e18972",
   "metadata": {},
   "outputs": [
    {
     "name": "stdout",
     "output_type": "stream",
     "text": [
      "True\n",
      "False\n",
      "True\n",
      "False\n"
     ]
    }
   ],
   "source": [
    "my_dict = {'a': 1, 'b': 2}\n",
    "my_dict0 = {1: \"momin\",2: \"cse,\"}\n",
    "\n",
    "print(1 in my_dict0) #true\n",
    "print(\"momin\" in my_dict0)\n",
    "print('a' in my_dict)       # True (checks keys by default)\n",
    "print(1 in my_dict)         # False\n"
   ]
  },
  {
   "cell_type": "code",
   "execution_count": 11,
   "id": "bdf6dcfc",
   "metadata": {},
   "outputs": [
    {
     "name": "stdout",
     "output_type": "stream",
     "text": [
      "Orange is not in the list\n"
     ]
    }
   ],
   "source": [
    "fruits = [\"mango\",\"apple\"]\n",
    "\n",
    "if 'orange' not in fruits:\n",
    "    print(\"Orange is not in the list\")\n"
   ]
  }
 ],
 "metadata": {
  "kernelspec": {
   "display_name": "Python 3",
   "language": "python",
   "name": "python3"
  },
  "language_info": {
   "codemirror_mode": {
    "name": "ipython",
    "version": 3
   },
   "file_extension": ".py",
   "mimetype": "text/x-python",
   "name": "python",
   "nbconvert_exporter": "python",
   "pygments_lexer": "ipython3",
   "version": "3.13.2"
  }
 },
 "nbformat": 4,
 "nbformat_minor": 5
}
