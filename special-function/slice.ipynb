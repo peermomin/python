{
 "cells": [
  {
   "cell_type": "markdown",
   "id": "63e3cc9d",
   "metadata": {},
   "source": [
    "#### Slicing Operator in Python\n",
    "<li> The slicing operator is used to extract a part (slice) of a sequence like a list, string, or tuple.\n",
    "<li> sequence[start:stop:step]"
   ]
  },
  {
   "cell_type": "code",
   "execution_count": 3,
   "id": "82365665",
   "metadata": {},
   "outputs": [
    {
     "name": "stdout",
     "output_type": "stream",
     "text": [
      "Hello\n",
      "Hello\n",
      "World!\n",
      "Hlo\n"
     ]
    }
   ],
   "source": [
    "# list\n",
    "text = \"Hello, World!\"\n",
    "print(text[0:5])     # Output: Hello (from index 0 up to 4)\n",
    "print(text[:5])      # Same as above, start defaults to 0\n",
    "print(text[7:])      # Output: World! (from index 7 to end)\n",
    "print(text[:5:2])"
   ]
  },
  {
   "cell_type": "code",
   "execution_count": 5,
   "id": "fc784da8",
   "metadata": {},
   "outputs": [
    {
     "name": "stdout",
     "output_type": "stream",
     "text": [
      "[2, 3, 4]\n",
      "[0, 1, 2, 3]\n",
      "[3, 4, 5, 6, 7]\n",
      "[7, 6, 5, 4, 3, 2, 1, 0]\n"
     ]
    }
   ],
   "source": [
    "numbers = [0, 1, 2, 3, 4, 5, 6, 7]\n",
    "\n",
    "print(numbers[2:5])   # Output: [2, 3, 4]\n",
    "print(numbers[:4])    # Output: [0, 1, 2, 3]\n",
    "print(numbers[3:])    # Output: [3, 4, 5, 6, 7]\n",
    "print(numbers[::-1])   # Output: [7, 6, 5, 4, 3, 2, 1, 0] (reverses the list)"
   ]
  }
 ],
 "metadata": {
  "kernelspec": {
   "display_name": "Python 3",
   "language": "python",
   "name": "python3"
  },
  "language_info": {
   "codemirror_mode": {
    "name": "ipython",
    "version": 3
   },
   "file_extension": ".py",
   "mimetype": "text/x-python",
   "name": "python",
   "nbconvert_exporter": "python",
   "pygments_lexer": "ipython3",
   "version": "3.13.2"
  }
 },
 "nbformat": 4,
 "nbformat_minor": 5
}
