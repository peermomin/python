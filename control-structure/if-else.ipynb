{
 "cells": [
  {
   "cell_type": "markdown",
   "id": "aca659f8",
   "metadata": {},
   "source": [
    "##### Control structures in Python are fundamental building blocks that control the flow of execution in a program. There are three main types:"
   ]
  },
  {
   "cell_type": "markdown",
   "id": "e2e96d5c",
   "metadata": {},
   "source": [
    "###### Conditional Statements (Decision-Making)\n",
    "<li> if else\n",
    "<li> elif if else "
   ]
  },
  {
   "cell_type": "code",
   "execution_count": 4,
   "id": "4355c05c",
   "metadata": {},
   "outputs": [
    {
     "name": "stdout",
     "output_type": "stream",
     "text": [
      "Helps his dad\n"
     ]
    }
   ],
   "source": [
    "age = 20\n",
    "if age < 18:\n",
    "    print(\"Goes to play cricket\")\n",
    "else:\n",
    "    print(\"Helps his dad\")"
   ]
  },
  {
   "cell_type": "code",
   "execution_count": 9,
   "id": "2e80d3e7",
   "metadata": {},
   "outputs": [
    {
     "name": "stdout",
     "output_type": "stream",
     "text": [
      "student gets grade B\n"
     ]
    }
   ],
   "source": [
    "marks = 65\n",
    "\n",
    "if marks > 85:\n",
    "    print(\"students gets grade A\")\n",
    "elif marks <= 85 and marks >= 60:\n",
    "    print(\"student gets grade B\")\n",
    "else:\n",
    "    print(\"student gets grade c\")"
   ]
  }
 ],
 "metadata": {
  "kernelspec": {
   "display_name": "Python 3",
   "language": "python",
   "name": "python3"
  },
  "language_info": {
   "codemirror_mode": {
    "name": "ipython",
    "version": 3
   },
   "file_extension": ".py",
   "mimetype": "text/x-python",
   "name": "python",
   "nbconvert_exporter": "python",
   "pygments_lexer": "ipython3",
   "version": "3.12.6"
  }
 },
 "nbformat": 4,
 "nbformat_minor": 5
}
