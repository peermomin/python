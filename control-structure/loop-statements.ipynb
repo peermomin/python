{
 "cells": [
  {
   "cell_type": "markdown",
   "id": "150449f4",
   "metadata": {},
   "source": [
    "####  Loop Control Statements\n",
    "<li> break\n",
    "<li> continue\n",
    "<li> pass"
   ]
  },
  {
   "cell_type": "code",
   "execution_count": 4,
   "id": "519ecd8d",
   "metadata": {},
   "outputs": [
    {
     "name": "stdout",
     "output_type": "stream",
     "text": [
      "0\n",
      "1\n",
      "2\n"
     ]
    }
   ],
   "source": [
    "## break: Exits the nearest enclosing loop immediately.\n",
    "\n",
    "for i in range(5):\n",
    "    if i == 3:\n",
    "        break  # exit loop when i == 3\n",
    "    print(i)"
   ]
  },
  {
   "cell_type": "code",
   "execution_count": 5,
   "id": "922f9d85",
   "metadata": {},
   "outputs": [
    {
     "name": "stdout",
     "output_type": "stream",
     "text": [
      "0\n",
      "1\n",
      "2\n",
      "4\n"
     ]
    }
   ],
   "source": [
    "## continue: Skips the rest of the current loop iteration and goes to next iteration.\n",
    "\n",
    "for i in range(5):\n",
    "    if i == 3:\n",
    "        continue  # skip printing 3\n",
    "    print(i)"
   ]
  },
  {
   "cell_type": "code",
   "execution_count": 6,
   "id": "76626d66",
   "metadata": {},
   "outputs": [],
   "source": [
    "## pass: placeholder needs for syntax\n",
    "\n",
    "class Animal:\n",
    "    def sound():\n",
    "        pass"
   ]
  }
 ],
 "metadata": {
  "kernelspec": {
   "display_name": "Python 3",
   "language": "python",
   "name": "python3"
  },
  "language_info": {
   "codemirror_mode": {
    "name": "ipython",
    "version": 3
   },
   "file_extension": ".py",
   "mimetype": "text/x-python",
   "name": "python",
   "nbconvert_exporter": "python",
   "pygments_lexer": "ipython3",
   "version": "3.13.2"
  }
 },
 "nbformat": 4,
 "nbformat_minor": 5
}
