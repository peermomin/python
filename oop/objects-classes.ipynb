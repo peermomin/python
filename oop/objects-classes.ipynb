{
 "cells": [
  {
   "cell_type": "markdown",
   "id": "a9ec0552",
   "metadata": {},
   "source": [
    "# 🔷 What is OOP?\n",
    "Object-Oriented Programming (OOP) is a programming paradigm based on the concept of objects, which contain:\n",
    "\n",
    "Data (attributes)\n",
    "\n",
    "Functions (methods)\n",
    "\n",
    "Python supports OOP, making it easy to model real-world entities like cars, students, employees, etc."
   ]
  },
  {
   "cell_type": "code",
   "execution_count": null,
   "id": "7e11d094",
   "metadata": {},
   "outputs": [
    {
     "name": "stdout",
     "output_type": "stream",
     "text": [
      "blue\n",
      "The blue car is of brand nano \n",
      " and is of power 400cc\n",
      "400\n"
     ]
    }
   ],
   "source": [
    "# class and objects\n",
    "\n",
    "class Car:\n",
    "\n",
    "    def __init__(self,brand,engine_power,color): # contructor gets called when object is being created\n",
    "        self.brand = brand # self refers to current object\n",
    "        self.__engine_power = engine_power # private instance variable\n",
    "        self._color = color\n",
    "\n",
    "    def run_car(self):\n",
    "        print(f\"The {self._color} car is of brand {self.brand} \\n and is of power {self.__engine_power}cc\")\n",
    "\n",
    "first_car = Car('nano',400,'blue') # instance of class is called object\n",
    "\n",
    "# print(first_car.__engine_power) -- cant access private variable\n",
    "print(first_car._color) # you can access protected outside class but developer has to think himself\n",
    "\n",
    "first_car.run_car()\n",
    "\n",
    "\n",
    "# to access private variables\n",
    "\n",
    "print(first_car._Car__engine_power) # mangling"
   ]
  }
 ],
 "metadata": {
  "kernelspec": {
   "display_name": "Python 3",
   "language": "python",
   "name": "python3"
  },
  "language_info": {
   "codemirror_mode": {
    "name": "ipython",
    "version": 3
   },
   "file_extension": ".py",
   "mimetype": "text/x-python",
   "name": "python",
   "nbconvert_exporter": "python",
   "pygments_lexer": "ipython3",
   "version": "3.13.2"
  }
 },
 "nbformat": 4,
 "nbformat_minor": 5
}
