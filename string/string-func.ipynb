{
 "cells": [
  {
   "cell_type": "markdown",
   "id": "0ff9b635",
   "metadata": {},
   "source": [
    "### Search and Check Methods"
   ]
  },
  {
   "cell_type": "code",
   "execution_count": 10,
   "id": "400f962f",
   "metadata": {},
   "outputs": [
    {
     "name": "stdout",
     "output_type": "stream",
     "text": [
      "6\n",
      "6\n",
      "True\n",
      "True\n",
      "2\n"
     ]
    }
   ],
   "source": [
    "my_name = 'peer momin'\n",
    "print(my_name.find('o')) # returns index or -1 if not there\n",
    "print(my_name.index('o')) # exactly like find() but raises error if not found\n",
    "print(my_name.startswith('p')) # True\n",
    "print(my_name.endswith('n')) # True\n",
    "print(my_name.count('m')) # 2"
   ]
  },
  {
   "cell_type": "markdown",
   "id": "eab9c884",
   "metadata": {},
   "source": [
    "### Testing String Content"
   ]
  },
  {
   "cell_type": "code",
   "execution_count": 18,
   "id": "d069550c",
   "metadata": {},
   "outputs": [
    {
     "name": "stdout",
     "output_type": "stream",
     "text": [
      "True\n",
      "True\n",
      "True\n"
     ]
    }
   ],
   "source": [
    "str1 = 'abcd'\n",
    "print(str1.isalpha()) # True\n",
    "str1 += '123'\n",
    "print(str1.isalnum()) # True\n",
    "str1 = str1.replace('abcd','1111') # pthon strings are immutable\n",
    "print(str1.isdigit()) # True"
   ]
  },
  {
   "cell_type": "markdown",
   "id": "13667dc2",
   "metadata": {},
   "source": [
    "### Trimming And Padding"
   ]
  },
  {
   "cell_type": "code",
   "execution_count": 23,
   "id": "2d5a83f6",
   "metadata": {},
   "outputs": [
    {
     "name": "stdout",
     "output_type": "stream",
     "text": [
      "14\n",
      "12\n",
      "00028\n"
     ]
    }
   ],
   "source": [
    "college_name = ' gcet kashmir '\n",
    "print(len(college_name))\n",
    "trimmed = college_name.strip() # strings are immutable\n",
    "print(len(trimmed))\n",
    "\n",
    "roll_no = '28'\n",
    "roll_no = roll_no.zfill(5)\n",
    "print(roll_no)"
   ]
  },
  {
   "cell_type": "markdown",
   "id": "c8f11e54",
   "metadata": {},
   "source": [
    "Q: Write a function to:\n",
    "\n",
    "Clean the text (remove punctuation, lowercasing, extra spaces)\n",
    "\n",
    "Check if the word \"excellent\" appears\n",
    "\n",
    "Return a new column contains_excellent as True or False"
   ]
  },
  {
   "cell_type": "code",
   "execution_count": 26,
   "id": "83b5e4a6",
   "metadata": {},
   "outputs": [
    {
     "name": "stdout",
     "output_type": "stream",
     "text": [
      "True\n"
     ]
    }
   ],
   "source": [
    "def desired_data(value):\n",
    "    # Remove punctuation\n",
    "    value = value.replace('.', '').replace(',', '')\n",
    "    \n",
    "    # Normalize text\n",
    "    value = value.lower().strip()\n",
    "    \n",
    "    # Check for keyword\n",
    "    if 'excellent' in value:\n",
    "        return True\n",
    "    else:\n",
    "        return False\n",
    "\n",
    "# Test\n",
    "print(desired_data('momin excellEnt 123   '))  # Output: True"
   ]
  },
  {
   "cell_type": "markdown",
   "id": "3d7656db",
   "metadata": {},
   "source": [
    "What is re in Python?\n",
    "re stands for regular expressions — it's a built-in Python module that allows you to search, match, replace, or split strings using patterns."
   ]
  }
 ],
 "metadata": {
  "kernelspec": {
   "display_name": "Python 3",
   "language": "python",
   "name": "python3"
  },
  "language_info": {
   "codemirror_mode": {
    "name": "ipython",
    "version": 3
   },
   "file_extension": ".py",
   "mimetype": "text/x-python",
   "name": "python",
   "nbconvert_exporter": "python",
   "pygments_lexer": "ipython3",
   "version": "3.13.2"
  }
 },
 "nbformat": 4,
 "nbformat_minor": 5
}
