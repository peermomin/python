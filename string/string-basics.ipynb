{
 "cells": [
  {
   "cell_type": "markdown",
   "id": "0874aef7",
   "metadata": {},
   "source": [
    "#### What is a String in Python?\n",
    "<li> A string is a sequence of Unicode characters. It is one of the most commonly used data types in Python."
   ]
  },
  {
   "cell_type": "code",
   "execution_count": 4,
   "id": "bf3f239c",
   "metadata": {},
   "outputs": [
    {
     "name": "stdout",
     "output_type": "stream",
     "text": [
      "Hello World\n",
      "This is\n",
      "a multi-line string\n"
     ]
    }
   ],
   "source": [
    "s1 = 'Hello'\n",
    "s2 = \"World\"\n",
    "s3 = '''This is\n",
    "a multi-line string'''\n",
    "print(*[s1,s2])\n",
    "print(s3)"
   ]
  },
  {
   "cell_type": "code",
   "execution_count": 5,
   "id": "45e02a51",
   "metadata": {},
   "outputs": [
    {
     "name": "stdout",
     "output_type": "stream",
     "text": [
      "P\n",
      "n\n"
     ]
    }
   ],
   "source": [
    "s = \"Python\"\n",
    "print(s[0])    # 'P'\n",
    "print(s[-1])   # 'n'"
   ]
  },
  {
   "cell_type": "code",
   "execution_count": 7,
   "id": "1be39508",
   "metadata": {},
   "outputs": [
    {
     "name": "stdout",
     "output_type": "stream",
     "text": [
      "habibi\n",
      "yth\n",
      "Pyt\n",
      "hon\n"
     ]
    }
   ],
   "source": [
    "# slicing\n",
    "name  = \"habibi come to dubai\"\n",
    "first_name = name[:6:]\n",
    "print(first_name)\n",
    "\n",
    "s = \"Python\"\n",
    "print(s[1:4])  # 'yth'\n",
    "print(s[:3])   # 'Pyt'\n",
    "print(s[3:])   # 'hon'\n"
   ]
  },
  {
   "cell_type": "code",
   "execution_count": 14,
   "id": "d7baa557",
   "metadata": {},
   "outputs": [
    {
     "name": "stdout",
     "output_type": "stream",
     "text": [
      "Hello World\n",
      "1D433G\n"
     ]
    }
   ],
   "source": [
    "s1 = \"Hello\"\n",
    "s2 = \"World\"\n",
    "print(s1 + \" \" + s2)  # 'Hello World'\n",
    "\n",
    "# strings are immutable\n",
    "id = \"1D433G\"\n",
    "# id[4] = 9 will give error\n",
    "print(id)"
   ]
  }
 ],
 "metadata": {
  "kernelspec": {
   "display_name": "Python 3",
   "language": "python",
   "name": "python3"
  },
  "language_info": {
   "codemirror_mode": {
    "name": "ipython",
    "version": 3
   },
   "file_extension": ".py",
   "mimetype": "text/x-python",
   "name": "python",
   "nbconvert_exporter": "python",
   "pygments_lexer": "ipython3",
   "version": "3.13.2"
  }
 },
 "nbformat": 4,
 "nbformat_minor": 5
}
