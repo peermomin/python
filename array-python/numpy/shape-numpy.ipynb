{
 "cells": [
  {
   "cell_type": "code",
   "execution_count": 1,
   "id": "1861dd5a",
   "metadata": {},
   "outputs": [
    {
     "name": "stdout",
     "output_type": "stream",
     "text": [
      "Original array:\n",
      " [[1 2 3]\n",
      " [4 5 6]]\n",
      "\n",
      "Reshaped to 3x2:\n",
      " [[1 2]\n",
      " [3 4]\n",
      " [5 6]]\n",
      "\n",
      "Reshape with -1 to column vector:\n",
      " [[1]\n",
      " [2]\n",
      " [3]\n",
      " [4]\n",
      " [5]\n",
      " [6]]\n",
      "\n",
      "Flattened array: [1 2 3 4 5 6]\n",
      "Raveled array: [1 2 3 4 5 6]\n",
      "\n",
      "Transposed array:\n",
      " [[1 4]\n",
      " [2 5]\n",
      " [3 6]]\n"
     ]
    }
   ],
   "source": [
    "import numpy as np\n",
    "\n",
    "# Original 2x3 array\n",
    "a = np.array([[1, 2, 3],\n",
    "              [4, 5, 6]])\n",
    "print(\"Original array:\\n\", a)\n",
    "\n",
    "# Reshape to 3x2\n",
    "reshaped = a.reshape(3, 2)\n",
    "print(\"\\nReshaped to 3x2:\\n\", reshaped)\n",
    "\n",
    "# Reshape with -1\n",
    "auto_shape = a.reshape(-1, 1)\n",
    "print(\"\\nReshape with -1 to column vector:\\n\", auto_shape)\n",
    "\n",
    "# Flatten\n",
    "flat = a.flatten()\n",
    "print(\"\\nFlattened array:\", flat)\n",
    "\n",
    "# Ravel (returns view)\n",
    "ravelled = a.ravel()\n",
    "print(\"Raveled array:\", ravelled)\n",
    "\n",
    "# Transpose\n",
    "transposed = a.T\n",
    "print(\"\\nTransposed array:\\n\", transposed)\n"
   ]
  }
 ],
 "metadata": {
  "kernelspec": {
   "display_name": "Python 3",
   "language": "python",
   "name": "python3"
  },
  "language_info": {
   "codemirror_mode": {
    "name": "ipython",
    "version": 3
   },
   "file_extension": ".py",
   "mimetype": "text/x-python",
   "name": "python",
   "nbconvert_exporter": "python",
   "pygments_lexer": "ipython3",
   "version": "3.13.2"
  }
 },
 "nbformat": 4,
 "nbformat_minor": 5
}
