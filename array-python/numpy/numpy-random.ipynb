{
 "cells": [
  {
   "cell_type": "markdown",
   "id": "a4839ae9",
   "metadata": {},
   "source": [
    "# 🎲 What is np.random?\n",
    "✅ It is a submodule in NumPy used to generate random numbers of many types:\n",
    "Integers\n",
    "\n",
    "Floats\n",
    "\n",
    "Random choices from arrays\n",
    "\n",
    "Shuffling arrays\n",
    "\n",
    "Normal (Gaussian) numbers\n",
    "\n",
    "Uniform distributions\n",
    "\n",
    "Many more!"
   ]
  },
  {
   "cell_type": "code",
   "execution_count": 3,
   "id": "d8fd249c",
   "metadata": {},
   "outputs": [
    {
     "name": "stdout",
     "output_type": "stream",
     "text": [
      "[[0.82969975 0.76507504 0.49496428]\n",
      " [0.7341723  0.27624033 0.72609061]]\n",
      "[[-0.04280932 -1.06924472 -0.23300755 -1.73719018]\n",
      " [-1.07842066 -0.66104074  0.32706114  1.05694392]\n",
      " [-0.95983449 -0.87864306  1.89825256 -0.22118896]\n",
      " [ 1.34131543 -1.39557385  0.3256621   2.18248698]]\n",
      "[[6 1 0 3 5]\n",
      " [8 1 6 5 3]\n",
      " [8 6 5 2 6]\n",
      " [9 6 9 4 3]\n",
      " [1 9 9 6 9]]\n"
     ]
    }
   ],
   "source": [
    "# random.rand(): [0 1) uniform distribution\n",
    "\n",
    "import numpy as np\n",
    "arr = np.random.rand(2,3)\n",
    "print(arr)\n",
    "\n",
    "# random.randn(): random float values mean = 0 & std = 1 (standard normal distribution)\n",
    "\n",
    "arr = np.random.randn(4,4)\n",
    "print(arr)\n",
    "\n",
    "# Random Integers\n",
    "# np.random.randint(low, high, size)\n",
    "# Generates random integers from low (inclusive) to high (exclusive).\n",
    "\n",
    "\n",
    "arr = np.random.randint(0,10,size=(5,5))\n",
    "print(arr)"
   ]
  },
  {
   "cell_type": "code",
   "execution_count": 12,
   "id": "878bf306",
   "metadata": {},
   "outputs": [
    {
     "name": "stdout",
     "output_type": "stream",
     "text": [
      "[[7 5 4]\n",
      " [4 4 9]]\n",
      "[[8 4]\n",
      " [3 2]]\n"
     ]
    }
   ],
   "source": [
    "# Random choice from an array\n",
    "\n",
    "import numpy as np\n",
    "\n",
    "arr = np.array([2,3,4,5,6,7,8,9])\n",
    "print(np.random.choice(arr,size=(2,3))) # repetion may occur\n",
    "print(np.random.choice(arr,size=(2,2),replace=False)) # repetion doesn't occur"
   ]
  },
  {
   "cell_type": "code",
   "execution_count": null,
   "id": "cd822e8a",
   "metadata": {},
   "outputs": [
    {
     "name": "stdout",
     "output_type": "stream",
     "text": [
      "[[2 3 4 5 6]\n",
      " [4 5 6 7 8]]\n",
      "[[4 5 6 7 8]\n",
      " [2 3 4 5 6]]\n",
      "[[4 5 6 7 8]\n",
      " [2 3 4 5 6]]\n",
      "[[2 3 4 5 6]\n",
      " [4 5 6 7 8]]\n"
     ]
    }
   ],
   "source": [
    "# shuffle : shuffles original\n",
    "\n",
    "import numpy as np\n",
    "\n",
    "arr = np.array([[2,3,4,5,6],[4,5,6,7,8]])\n",
    "\n",
    "print(arr)\n",
    "np.random.shuffle(arr)\n",
    "print(arr)\n",
    "\n",
    "\n",
    "# permutation: returns new array\n",
    "\n",
    "newarr = np.random.permutation(arr)\n",
    "\n",
    "print(arr) # original remains same\n",
    "print(newarr)"
   ]
  },
  {
   "cell_type": "code",
   "execution_count": null,
   "id": "b6e2f327",
   "metadata": {},
   "outputs": [
    {
     "name": "stdout",
     "output_type": "stream",
     "text": [
      "[ 1.62434536 -0.61175641 -0.52817175 -1.07296862] [-0.41675785 -0.05626683 -2.1361961   1.64027081]\n"
     ]
    }
   ],
   "source": [
    "# seed: ensures reproducibility - same output for same seed\n",
    "\n",
    "np.random.seed(1)\n",
    "\n",
    "arr_one = np.random.randn(4)\n",
    "\n",
    "# np.random.seed(2) # if u remove this comment only then output will change for second\n",
    "arr_two = np.random.randn(4)\n",
    "\n",
    "print(arr_one,arr_two)"
   ]
  }
 ],
 "metadata": {
  "kernelspec": {
   "display_name": "Python 3",
   "language": "python",
   "name": "python3"
  },
  "language_info": {
   "codemirror_mode": {
    "name": "ipython",
    "version": 3
   },
   "file_extension": ".py",
   "mimetype": "text/x-python",
   "name": "python",
   "nbconvert_exporter": "python",
   "pygments_lexer": "ipython3",
   "version": "3.13.2"
  }
 },
 "nbformat": 4,
 "nbformat_minor": 5
}
