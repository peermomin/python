{
 "cells": [
  {
   "cell_type": "markdown",
   "id": "efd8c8d4",
   "metadata": {},
   "source": [
    "## Numpy\n",
    "#### It is a high performance numerical computing library\n",
    "## Provides:\n",
    "<li>N-dimentional arrays</li>\n",
    "<li>Mathematical Functions</li>\n",
    "<li>BroadCasting (Operating b/w arrays)</li>\n",
    "<li>Vectorised Operations</li>"
   ]
  },
  {
   "cell_type": "code",
   "execution_count": null,
   "id": "90679ab5",
   "metadata": {},
   "outputs": [
    {
     "name": "stdout",
     "output_type": "stream",
     "text": [
      "int64\n",
      "[  1  33  60  99 100]\n",
      "<U21\n",
      "['1' '22' '4']\n",
      "int32\n",
      "[2 3 5 6]\n"
     ]
    }
   ],
   "source": [
    "import numpy as np\n",
    "\n",
    "array_one = np.array([1,33,60,99,100]) # same dtype so contiguous memory hence efficient computation\n",
    "print(array_one.dtype)\n",
    "print(array_one)\n",
    "\n",
    "# Using mixed types upcasts all elements.\n",
    "## Conversion\n",
    "\n",
    "arr2 = np.array([1,'22',4])\n",
    "print(arr2.dtype)\n",
    "print(arr2) # all string values\n",
    "\n",
    "\n",
    "## Casting\n",
    "\n",
    "arr3 = np.array([2.2,3,5,6], dtype = np.int32)\n",
    "print(arr3.dtype)\n",
    "print(arr3)   # possible data loss"
   ]
  },
  {
   "cell_type": "code",
   "execution_count": null,
   "id": "a0e50387",
   "metadata": {},
   "outputs": [
    {
     "name": "stdout",
     "output_type": "stream",
     "text": [
      "(2, 4)\n",
      "2\n",
      "3 4\n",
      "8\n"
     ]
    }
   ],
   "source": [
    "# Matrix\n",
    "\n",
    "import numpy as np\n",
    "mat_one = np.array([[11,22,33,44],[1,2,3,4]])\n",
    "\n",
    "print(mat_one.shape)\n",
    "print(mat_one.ndim)\n",
    "print(mat_one[1][2],mat_one[1,3]) # indexing\n",
    "print(mat_one.size)"
   ]
  },
  {
   "cell_type": "code",
   "execution_count": 26,
   "id": "290b1129",
   "metadata": {},
   "outputs": [
    {
     "name": "stdout",
     "output_type": "stream",
     "text": [
      "<class 'numpy.ndarray'>\n"
     ]
    }
   ],
   "source": [
    "# Initialising\n",
    "\n",
    "np.zeros((2, 3))     # 2x3 array of zeros\n",
    "np.ones((3, 3))      # 3x3 array of ones\n",
    "np.eye(3)            # Identity matrix\n",
    "np.arange(0, 10, 2)  # [0 2 4 6 8]\n",
    "ll = np.linspace(0, 1, 5) # [0.   0.25 0.5  0.75 1. ]\n",
    "print(type(ll))"
   ]
  }
 ],
 "metadata": {
  "kernelspec": {
   "display_name": "Python 3",
   "language": "python",
   "name": "python3"
  },
  "language_info": {
   "codemirror_mode": {
    "name": "ipython",
    "version": 3
   },
   "file_extension": ".py",
   "mimetype": "text/x-python",
   "name": "python",
   "nbconvert_exporter": "python",
   "pygments_lexer": "ipython3",
   "version": "3.13.2"
  }
 },
 "nbformat": 4,
 "nbformat_minor": 5
}
