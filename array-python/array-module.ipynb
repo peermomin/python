{
 "cells": [
  {
   "cell_type": "markdown",
   "metadata": {},
   "source": [
    "\n",
    "# Array module?\n",
    "<li> The array module in Python provides a way to create arrays of fixed types, meaning all elements must be of the\n",
    "    same data type, like integers or floats. </li>\n",
    "\n",
    "<li> It’s more memory-efficient than Python lists for large datasets, especially if you're storing only numbers.</li>"
   ]
  },
  {
   "cell_type": "code",
   "execution_count": 6,
   "id": "fb7d43e7",
   "metadata": {},
   "outputs": [
    {
     "name": "stdout",
     "output_type": "stream",
     "text": [
      "1 2 44 5 6 72 7 9 0 <class 'array.array'>\n",
      "array('u', 'i♥u')\n"
     ]
    },
    {
     "name": "stderr",
     "output_type": "stream",
     "text": [
      "C:\\Users\\peerm\\AppData\\Local\\Temp\\ipykernel_15572\\1330944323.py:10: DeprecationWarning: The 'u' type code is deprecated and will be removed in Python 3.16\n",
      "  love_string = ar.array('u',['i','♥','u'])\n"
     ]
    }
   ],
   "source": [
    "# syntax: array.array(typecode, initializer)\n",
    "\n",
    "import array as ar\n",
    "\n",
    "integer_array = ar.array('i',[1,2,44,5,6,72,7,9,0])\n",
    "print(*integer_array,type(integer_array))\n",
    "\n",
    "## Doesn't support matrix or mult dimentional arrays natively.\n",
    "\n",
    "love_string = ar.array('u',['i','♥','u'])\n",
    "print(love_string)"
   ]
  },
  {
   "cell_type": "code",
   "execution_count": 10,
   "id": "d07d8971",
   "metadata": {},
   "outputs": [
    {
     "name": "stdout",
     "output_type": "stream",
     "text": [
      "22 44 90 55 66 77 22 22 55\n",
      "3\n",
      "2\n",
      "array('i', [55, 22, 22, 77, 66, 55, 90, 44, 22])\n",
      "22 22 22 44 55 55 66 77 90\n"
     ]
    }
   ],
   "source": [
    "# Array as DS\n",
    "import array as ary\n",
    "nums = ary.array('i',[22,33,44,55,66,77,22,22])\n",
    "\n",
    "nums.append(55)\n",
    "nums.append(100)\n",
    "nums.remove(33)\n",
    "nums.insert(2,90)\n",
    "nums.pop()\n",
    "\n",
    "print(*nums)\n",
    "print(nums.count(22))\n",
    "print(nums.index(90))\n",
    "nums.reverse()\n",
    "print(nums)\n",
    "\n",
    "\n",
    "# Sorting\n",
    "\n",
    "sorted_array = ary.array('i',sorted(nums))\n",
    "print(*sorted_array)\n"
   ]
  }
 ],
 "metadata": {
  "kernelspec": {
   "display_name": "Python 3",
   "language": "python",
   "name": "python3"
  },
  "language_info": {
   "codemirror_mode": {
    "name": "ipython",
    "version": 3
   },
   "file_extension": ".py",
   "mimetype": "text/x-python",
   "name": "python",
   "nbconvert_exporter": "python",
   "pygments_lexer": "ipython3",
   "version": "3.13.2"
  }
 },
 "nbformat": 4,
 "nbformat_minor": 5
}
