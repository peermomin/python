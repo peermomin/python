{
 "cells": [
  {
   "cell_type": "markdown",
   "id": "efd8c8d4",
   "metadata": {},
   "source": [
    "## Numpy\n",
    "#### It is a high performance numerical computing library\n",
    "## Provides:\n",
    "<li>N-dimentional arrays</li>\n",
    "<li>Mathematical Functions</li>\n",
    "<li>BroadCasting (Operating b/w arrays)</li>\n",
    "<li>Vectorised Operations</li>"
   ]
  }
 ],
 "metadata": {
  "language_info": {
   "name": "python"
  }
 },
 "nbformat": 4,
 "nbformat_minor": 5
}
