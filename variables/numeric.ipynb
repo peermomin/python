{
 "cells": [
  {
   "cell_type": "code",
   "execution_count": 1,
   "id": "6b621946",
   "metadata": {},
   "outputs": [
    {
     "name": "stdout",
     "output_type": "stream",
     "text": [
      "50 -70\n",
      "<class 'int'> <class 'int'>\n"
     ]
    }
   ],
   "source": [
    "# int\n",
    "## Integer numbers (+ve, -ve, zero)\n",
    "\n",
    "age = 50\n",
    "depth = -70\n",
    "print(age,depth)\n",
    "print(type(age),type(depth))"
   ]
  },
  {
   "cell_type": "code",
   "execution_count": 2,
   "id": "af0687dc",
   "metadata": {},
   "outputs": [
    {
     "name": "stdout",
     "output_type": "stream",
     "text": [
      "50.5 79.35\n",
      "<class 'float'> <class 'float'>\n"
     ]
    }
   ],
   "source": [
    "# float\n",
    "## floationg-point numbers (decimals)\n",
    "\n",
    "length = 50.5\n",
    "weight = 79.35\n",
    "\n",
    "print(length,weight)\n",
    "print(type(length),type(weight))"
   ]
  },
  {
   "cell_type": "code",
   "execution_count": 3,
   "id": "7094ece8",
   "metadata": {},
   "outputs": [
    {
     "name": "stdout",
     "output_type": "stream",
     "text": [
      "(3+4j) (2+5j)\n",
      "<class 'complex'> <class 'complex'>\n",
      "3.0\n",
      "5.0\n"
     ]
    }
   ],
   "source": [
    "# complex\n",
    "## Complex numbers with real and imaginary parts\n",
    "\n",
    "z1 = 3 +4j\n",
    "z2 = complex(2,5)\n",
    "\n",
    "print(z1,z2)\n",
    "print(type(z1),type(z2))\n",
    "\n",
    "print(z1.real)\n",
    "print(z2.imag)"
   ]
  }
 ],
 "metadata": {
  "kernelspec": {
   "display_name": "Python 3",
   "language": "python",
   "name": "python3"
  },
  "language_info": {
   "codemirror_mode": {
    "name": "ipython",
    "version": 3
   },
   "file_extension": ".py",
   "mimetype": "text/x-python",
   "name": "python",
   "nbconvert_exporter": "python",
   "pygments_lexer": "ipython3",
   "version": "3.13.2"
  }
 },
 "nbformat": 4,
 "nbformat_minor": 5
}
