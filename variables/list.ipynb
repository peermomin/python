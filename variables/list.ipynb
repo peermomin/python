{
 "cells": [
  {
   "cell_type": "markdown",
   "id": "0e93360c",
   "metadata": {},
   "source": [
    "<h1> What is a List?</h1>\n",
    "<p> A list is a dynamic, ordered, mutable collection of Python objects.</p>\n",
    "<p> It allows heterogeneous data, i.e., different types of elements.</p>"
   ]
  },
  {
   "cell_type": "code",
   "execution_count": 1,
   "id": "d938e388",
   "metadata": {},
   "outputs": [
    {
     "name": "stdout",
     "output_type": "stream",
     "text": [
      "['momin', 21, {'address': 'anantnag'}]\n",
      "momin\n",
      "{'address': 'anantnag'}\n",
      "anantnag\n"
     ]
    }
   ],
   "source": [
    "person = ['momin',21,{'address': 'anantnag',}]\n",
    "\n",
    "print(person)\n",
    "\n",
    "# indexing\n",
    "print(person[0]) # output: \"momin\"\n",
    "print(person[-1]) # output: {'address': 'anantnag'}\n",
    "print(person[2]['address']) # output: 'anantnag'"
   ]
  },
  {
   "cell_type": "markdown",
   "id": "e732192d",
   "metadata": {},
   "source": [
    "<h2> Internal Representation of list.</h2>\n",
    "<p><small>Python list is like a resizable box that holds references (pointers) to other Python objects. Internally, it uses a dynamic array, meaning it keeps extra space ready so it doesn't have to resize every time you add something. When you add items, it may grow automatically by allocating more space than needed. The list stores the actual items as references, not the data itself, and it allows fast access by index. This design makes appending and accessing items efficient most of the time.</small></p>"
   ]
  },
  {
   "cell_type": "code",
   "execution_count": 2,
   "id": "7c0ef292",
   "metadata": {},
   "outputs": [
    {
     "name": "stdout",
     "output_type": "stream",
     "text": [
      "[2, 4]\n"
     ]
    }
   ],
   "source": [
    "# List slicing\n",
    "\n",
    "list_one = [1,2,3,4,5]\n",
    "print(list_one[1:4:2]) # output: [2,4]"
   ]
  },
  {
   "cell_type": "code",
   "execution_count": 3,
   "id": "aecb6e68",
   "metadata": {},
   "outputs": [
    {
     "name": "stdout",
     "output_type": "stream",
     "text": [
      "[10, 20, 30, 40, 50, 60]\n",
      "[10, 20, 30, 40, 50, 60, 70, 80]\n",
      "[10, 20, 30, 40, 50, 60, 70, 80, 90]\n",
      "90\n",
      "[10, 20, 30, 40, 50, 60, 70, 80]\n",
      "[20, 30, 40, 50, 60, 70, 80]\n"
     ]
    }
   ],
   "source": [
    "# list operations\n",
    "\n",
    "roll_nums = [10,20,30,40,50]\n",
    "\n",
    "roll_nums.append(60)\n",
    "print(roll_nums)\n",
    "roll_nums.extend([70,80])\n",
    "print(roll_nums)\n",
    "roll_nums.insert(8,90)\n",
    "print(roll_nums)\n",
    "poped_ele = roll_nums.pop()\n",
    "print(poped_ele)\n",
    "print(roll_nums)\n",
    "roll_nums.remove(10)\n",
    "print(roll_nums)"
   ]
  },
  {
   "cell_type": "code",
   "execution_count": 6,
   "id": "82ff2c2b",
   "metadata": {},
   "outputs": [
    {
     "name": "stdout",
     "output_type": "stream",
     "text": [
      "3\n",
      "1\n",
      "195\n",
      "10\n",
      "40\n",
      "3\n",
      "True\n"
     ]
    }
   ],
   "source": [
    "# common utilities\n",
    "\n",
    "kashmiri_apples = ['delicious','gala','crimzon']\n",
    "print(len(kashmiri_apples)) # output: 3\n",
    "print(kashmiri_apples.index(\"gala\")) # output: 1\n",
    "\n",
    "numbers = [10,20,15,30,40,40,40]\n",
    "print(sum(numbers))\n",
    "print(min(numbers))\n",
    "print(max(numbers))\n",
    "print(numbers.count(40))\n",
    "print(10 in numbers)"
   ]
  },
  {
   "cell_type": "code",
   "execution_count": 1,
   "id": "381a8fb9",
   "metadata": {},
   "outputs": [
    {
     "name": "stdout",
     "output_type": "stream",
     "text": [
      "aaple\n",
      "mango\n",
      "water-melon\n",
      "melon\n",
      "tomato\n"
     ]
    }
   ],
   "source": [
    "# Looping over lists\n",
    "\n",
    "fruits = ['aaple','mango','water-melon','melon','tomato']\n",
    "\n",
    "for fruit in fruits:\n",
    "    print(fruit)"
   ]
  },
  {
   "cell_type": "code",
   "execution_count": 4,
   "id": "fb3a612e",
   "metadata": {},
   "outputs": [
    {
     "name": "stdout",
     "output_type": "stream",
     "text": [
      "pants is at index 0\n",
      "polo-shirt is at index 1\n",
      "cargo-pant is at index 2\n",
      "t-shirt is at index 3\n"
     ]
    }
   ],
   "source": [
    "# enumerate method\n",
    "\n",
    "clothes = ['pants','polo-shirt','cargo-pant','t-shirt']\n",
    "\n",
    "for idx,item in enumerate(clothes):\n",
    "    print(f\"{item} is at index {idx}\")"
   ]
  },
  {
   "cell_type": "code",
   "execution_count": 16,
   "id": "e3f36fd9",
   "metadata": {},
   "outputs": [
    {
     "name": "stdout",
     "output_type": "stream",
     "text": [
      "[0, 1, 4, 9, 16, 25, 36, 49, 64, 81]\n",
      "[0, 2, 4, 6, 8]\n",
      "[144, 256, 324]\n"
     ]
    }
   ],
   "source": [
    "# comprehensions\n",
    "## concise way to create list (gives ease compared to loops 0r append)\n",
    "## [expression for item in iterable]\n",
    "\n",
    "squares = [x*x for x in range(10)]\n",
    "print(squares)\n",
    "\n",
    "evens = [x for x in range(10) if x%2 ==0]\n",
    "print(evens)\n",
    "\n",
    "\n",
    "# problem1\n",
    "\n",
    "nums = [4, 11, 12, 5, 16, 7, 2, 18] #input\n",
    "\n",
    "desired_list = [item*item for item in nums if item > 10 and item%2 == 0] # squares of input also input greter than 10 and not odd\n",
    "print(desired_list)\n",
    "\n"
   ]
  }
 ],
 "metadata": {
  "kernelspec": {
   "display_name": "Python 3",
   "language": "python",
   "name": "python3"
  },
  "language_info": {
   "codemirror_mode": {
    "name": "ipython",
    "version": 3
   },
   "file_extension": ".py",
   "mimetype": "text/x-python",
   "name": "python",
   "nbconvert_exporter": "python",
   "pygments_lexer": "ipython3",
   "version": "3.13.2"
  }
 },
 "nbformat": 4,
 "nbformat_minor": 5
}
