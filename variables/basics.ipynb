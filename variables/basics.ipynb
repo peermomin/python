{
 "cells": [
  {
   "cell_type": "markdown",
   "id": "1c40bab1",
   "metadata": {},
   "source": [
    "<h1> What is a Variable? </h1>\n",
    "<p> In Python, variables are used to store data that can be referenced and manipulated throughout a program. Think of a variable as a label or name that points to a value in memory.</p>\n",
    "<p> A variable is a symbolic name for an object. Once a variable is assigned a value, you can use it to access or modify that value. </p>"
   ]
  },
  {
   "cell_type": "markdown",
   "id": "a663af3b",
   "metadata": {},
   "source": [
    "<h4> What is dynamically typed? </h4>\n",
    "<p> In a dynamically typed language like Python, when you assign a value to a variable, Python immediately creates an object in memory for that value and tags it with its type (e.g., int, str, list).</p>\n",
    "<p> The type is determined at runtime, by inspecting the value itself, not by any prior declaration. The variable (like x) is just a name — it doesn't store any type. It simply points to the object, and the object knows its own type.</p>"
   ]
  },
  {
   "cell_type": "code",
   "execution_count": 3,
   "id": "5e45334c",
   "metadata": {},
   "outputs": [
    {
     "name": "stdout",
     "output_type": "stream",
     "text": [
      "<class 'str'> <class 'str'>\n",
      "momin peer\n"
     ]
    }
   ],
   "source": [
    "# Follow snake_case.\n",
    "\n",
    "first_name = \"momin\"\n",
    "last_name = \"peer\"\n",
    "\n",
    "print(type(first_name),type(last_name)) # type(object): returns type of object.\n",
    "print(first_name+\" \"+last_name)"
   ]
  }
 ],
 "metadata": {
  "kernelspec": {
   "display_name": "Python 3",
   "language": "python",
   "name": "python3"
  },
  "language_info": {
   "codemirror_mode": {
    "name": "ipython",
    "version": 3
   },
   "file_extension": ".py",
   "mimetype": "text/x-python",
   "name": "python",
   "nbconvert_exporter": "python",
   "pygments_lexer": "ipython3",
   "version": "3.13.2"
  }
 },
 "nbformat": 4,
 "nbformat_minor": 5
}
