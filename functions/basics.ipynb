{
 "cells": [
  {
   "cell_type": "markdown",
   "id": "8649806e",
   "metadata": {},
   "source": [
    "## Functions\n",
    "#### In Python, functions are blocks of reusable code that perform a specific task. Functions help break down tasks into smaller, manageable chunks and make your code more modular and organized.\n",
    "#### You define a function using the def keyword followed by the function name and parameters (if any). The function body is indented."
   ]
  },
  {
   "cell_type": "code",
   "execution_count": 1,
   "id": "8f242e95",
   "metadata": {},
   "outputs": [
    {
     "name": "stdout",
     "output_type": "stream",
     "text": [
      "30\n"
     ]
    }
   ],
   "source": [
    "def cal_sum (a,b):\n",
    "    return a+b\n",
    "\n",
    "print(cal_sum(10,20))"
   ]
  },
  {
   "cell_type": "markdown",
   "id": "551249ba",
   "metadata": {},
   "source": [
    "## Parameter and arguments\n",
    "#### Functions can accept parameters (values that you pass to the function). When you call the function, you provide the arguments (actual values) that the function uses."
   ]
  },
  {
   "cell_type": "code",
   "execution_count": 3,
   "id": "be1ee7c4",
   "metadata": {},
   "outputs": [
    {
     "name": "stdout",
     "output_type": "stream",
     "text": [
      "Hello momin you are 22 years old\n",
      "Hello muneeb you are 27 years old\n"
     ]
    }
   ],
   "source": [
    "def greet (age,name):\n",
    "    print(f\"Hello {name} you are {age} years old\")\n",
    "\n",
    "greet(22,'momin') # positional arguments\n",
    "greet(name = 'muneeb',age = '27') # keyword arguments"
   ]
  },
  {
   "cell_type": "markdown",
   "id": "baff3bd4",
   "metadata": {},
   "source": [
    "## Returning Values\n",
    "#### Functions can return values using the return statement. If a function does not have a return statement, it implicitly returns None."
   ]
  },
  {
   "cell_type": "code",
   "execution_count": 5,
   "id": "0f9f64bb",
   "metadata": {},
   "outputs": [
    {
     "name": "stdout",
     "output_type": "stream",
     "text": [
      "hello, world!\n",
      "None <class 'NoneType'>\n"
     ]
    }
   ],
   "source": [
    "def say_hello ():\n",
    "    print('hello, world!')\n",
    "\n",
    "r_val = say_hello()\n",
    "print(r_val,type(r_val))"
   ]
  },
  {
   "cell_type": "markdown",
   "id": "d2699b8b",
   "metadata": {},
   "source": [
    "## Default parameters\n",
    "#### You can set default values for parameters. This allows you to call the function without providing those arguments."
   ]
  },
  {
   "cell_type": "code",
   "execution_count": 8,
   "id": "77a11bac",
   "metadata": {},
   "outputs": [
    {
     "name": "stdout",
     "output_type": "stream",
     "text": [
      "wassup, momin\n",
      "hello, yaseen\n"
     ]
    }
   ],
   "source": [
    "def adv_greet (name,greeting = 'hello'):\n",
    "    print(f\"{greeting}, {name}\")\n",
    "\n",
    "adv_greet('momin','wassup')\n",
    "adv_greet('yaseen')"
   ]
  },
  {
   "cell_type": "markdown",
   "id": "adb8c928",
   "metadata": {},
   "source": [
    "## Variable-Length Arguments\n",
    "#### Sometimes, you might not know how many arguments will be passed to the function. You can use *args for positional arguments and **kwargs for keyword arguments"
   ]
  },
  {
   "cell_type": "code",
   "execution_count": null,
   "id": "1971a6dd",
   "metadata": {},
   "outputs": [
    {
     "name": "stdout",
     "output_type": "stream",
     "text": [
      "<class 'tuple'>\n",
      "1\n",
      "2\n",
      "3\n"
     ]
    }
   ],
   "source": [
    "def alfa(*args):\n",
    "    print(type(args))\n",
    "    for item in args:\n",
    "        print(item)\n",
    "\n",
    "alfa(1,2,3)"
   ]
  },
  {
   "cell_type": "code",
   "execution_count": 20,
   "id": "77820bfa",
   "metadata": {},
   "outputs": [
    {
     "name": "stdout",
     "output_type": "stream",
     "text": [
      "<class 'dict'>\n",
      "{'age': 20, 'name': 'momin', 'gender': 'male'}\n",
      "age 20\n",
      "name momin\n",
      "gender male\n"
     ]
    }
   ],
   "source": [
    "def beta(**kwargs):\n",
    "    print(type(kwargs))\n",
    "    print(kwargs)\n",
    "    for key , val in kwargs.items():\n",
    "        print(key,val)\n",
    "\n",
    "\n",
    "beta(age = 20,name = 'momin',gender = 'male')"
   ]
  }
 ],
 "metadata": {
  "kernelspec": {
   "display_name": "Python 3",
   "language": "python",
   "name": "python3"
  },
  "language_info": {
   "codemirror_mode": {
    "name": "ipython",
    "version": 3
   },
   "file_extension": ".py",
   "mimetype": "text/x-python",
   "name": "python",
   "nbconvert_exporter": "python",
   "pygments_lexer": "ipython3",
   "version": "3.13.2"
  }
 },
 "nbformat": 4,
 "nbformat_minor": 5
}
